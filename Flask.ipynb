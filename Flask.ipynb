{
 "cells": [
  {
   "cell_type": "code",
   "execution_count": null,
   "id": "09046708",
   "metadata": {},
   "outputs": [],
   "source": [
    "#import flask framework and it's libraries\n",
    "from flask import Flask, request, jsonify\n",
    "\n",
    "#creating flask object &\n",
    "#initialize all the named fun in flask\n",
    "app = Flask(__name__)\n",
    "\n",
    "#create route path and define methods\n",
    "@app.route('/xyz', methods=['GET', 'POST'])\n",
    "def test():\n",
    "    if request.method == 'POST':\n",
    "        data = request.get_json()\n",
    "        a = data.get('num1')\n",
    "        b = data.get('num2')\n",
    "        result = a + b\n",
    "        return jsonify(str(result))\n",
    "\n",
    "@app.route('/xyz/abc', methods=['GET', 'POST'])\n",
    "def test2():\n",
    "    if request.method == 'POST':\n",
    "        data = request.get_json()\n",
    "        a = data.get('num3')\n",
    "        b = data.get('num4')\n",
    "        result = a + b\n",
    "        return jsonify(str(result))\n",
    "\n",
    "@app.route('/xyz/bca', methods=['GET', 'POST'])\n",
    "def test3():\n",
    "    if request.method == 'POST':\n",
    "        data = request.get_json()\n",
    "        a = data.get('num5')\n",
    "        b = data.get('num6')\n",
    "        result = a + b\n",
    "        return jsonify(str(result))\n",
    "\n",
    "#Execute the API\n",
    "if __name__ == '__main__':\n",
    "    app.run()"
   ]
  }
 ],
 "metadata": {
  "kernelspec": {
   "display_name": "Python 3 (ipykernel)",
   "language": "python",
   "name": "python3"
  },
  "language_info": {
   "codemirror_mode": {
    "name": "ipython",
    "version": 3
   },
   "file_extension": ".py",
   "mimetype": "text/x-python",
   "name": "python",
   "nbconvert_exporter": "python",
   "pygments_lexer": "ipython3",
   "version": "3.10.9"
  }
 },
 "nbformat": 4,
 "nbformat_minor": 5
}
